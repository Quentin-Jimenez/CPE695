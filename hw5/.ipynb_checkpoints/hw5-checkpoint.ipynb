{
 "cells": [
  {
   "cell_type": "code",
   "execution_count": 12,
   "id": "2b00c78e",
   "metadata": {},
   "outputs": [
    {
     "ename": "ModuleNotFoundError",
     "evalue": "No module named 'genetic_selection'",
     "output_type": "error",
     "traceback": [
      "\u001b[1;31m---------------------------------------------------------------------------\u001b[0m",
      "\u001b[1;31mModuleNotFoundError\u001b[0m                       Traceback (most recent call last)",
      "Input \u001b[1;32mIn [12]\u001b[0m, in \u001b[0;36m<module>\u001b[1;34m\u001b[0m\n\u001b[0;32m      2\u001b[0m \u001b[38;5;28;01mimport\u001b[39;00m \u001b[38;5;21;01mnumpy\u001b[39;00m \u001b[38;5;28;01mas\u001b[39;00m \u001b[38;5;21;01mnp\u001b[39;00m \n\u001b[0;32m      3\u001b[0m \u001b[38;5;28;01mfrom\u001b[39;00m \u001b[38;5;21;01msklearn\u001b[39;00m \u001b[38;5;28;01mimport\u001b[39;00m linear_model\n\u001b[1;32m----> 4\u001b[0m \u001b[38;5;28;01mimport\u001b[39;00m \u001b[38;5;21;01mgenetic_selection\u001b[39;00m\n\u001b[0;32m      6\u001b[0m plt\u001b[38;5;241m.\u001b[39mstyle\u001b[38;5;241m.\u001b[39muse(\u001b[38;5;124m'\u001b[39m\u001b[38;5;124mseaborn-whitegrid\u001b[39m\u001b[38;5;124m'\u001b[39m)\n",
      "\u001b[1;31mModuleNotFoundError\u001b[0m: No module named 'genetic_selection'"
     ]
    }
   ],
   "source": [
    "import matplotlib.pyplot as plt \n",
    "import numpy as np \n",
    "from sklearn import linear_model\n",
    "import sklearn\n",
    "import genetic_selection\n",
    "\n",
    "plt.style.use('seaborn-whitegrid')"
   ]
  },
  {
   "cell_type": "code",
   "execution_count": null,
   "id": "bb72d1ec",
   "metadata": {},
   "outputs": [],
   "source": [
    "noise_scale = 100 \n",
    "number_of_samples = 50 \n",
    "x = np.array(25*(np.random.rand(number_of_samples) - 0.8))\n",
    "x.sort()\n",
    "yNoisy = np.array(7 * x + 15 * x**2 + 1 * x**3 + noise_scale*np.random.randn(number_of_samples) )\n",
    "plt.plot(x,yNoisy,'ro')"
   ]
  },
  {
   "cell_type": "code",
   "execution_count": null,
   "id": "abc35a6b",
   "metadata": {},
   "outputs": [],
   "source": [
    "estimator = linear_model.LogisticRegression()\n",
    "\n",
    "selector = GeneticSelectionCV(\n",
    "        estimator,\n",
    "        cv=5,\n",
    "        verbose=1,\n",
    "        scoring=\"accuracy\",\n",
    "        max_features=5,\n",
    "        n_population=50,\n",
    "        crossover_proba=0.5,\n",
    "        mutation_proba=0.2,\n",
    "        n_generations=40,\n",
    "        crossover_independent_proba=0.5,\n",
    "        mutation_independent_proba=0.05,\n",
    "        tournament_size=3,\n",
    "        n_gen_no_change=10,\n",
    "        caching=True,\n",
    "        n_jobs=-1,\n",
    ")\n",
    "\n",
    "selector = selector.fit(x, yNoisy)\n",
    "\n",
    "print(selector.support_)"
   ]
  },
  {
   "cell_type": "code",
   "execution_count": null,
   "id": "42fc22bd",
   "metadata": {},
   "outputs": [],
   "source": []
  }
 ],
 "metadata": {
  "kernelspec": {
   "display_name": "Python 3 (ipykernel)",
   "language": "python",
   "name": "python3"
  },
  "language_info": {
   "codemirror_mode": {
    "name": "ipython",
    "version": 3
   },
   "file_extension": ".py",
   "mimetype": "text/x-python",
   "name": "python",
   "nbconvert_exporter": "python",
   "pygments_lexer": "ipython3",
   "version": "3.8.0"
  }
 },
 "nbformat": 4,
 "nbformat_minor": 5
}
