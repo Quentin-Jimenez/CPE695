{
 "cells": [
  {
   "cell_type": "code",
   "execution_count": 2,
   "id": "c90a4fde",
   "metadata": {},
   "outputs": [],
   "source": [
    "import pandas as pd\n",
    "import numpy as np\n",
    "import matplotlib.pyplot as plt\n",
    "import random\n",
    "\n",
    "from sklearn import preprocessing\n",
    "from sklearn.model_selection import train_test_split\n",
    "from sklearn.metrics import classification_report\n",
    "\n",
    "from sklearn.neural_network import MLPClassifier\n",
    "from sklearn.ensemble import RandomForestClassifier"
   ]
  },
  {
   "cell_type": "code",
   "execution_count": 3,
   "id": "f200bbcd",
   "metadata": {},
   "outputs": [
    {
     "name": "stdout",
     "output_type": "stream",
     "text": [
      "      pclass  sex  age  sibsp\n",
      "907        2    0   29      1\n",
      "761        2    1   24      0\n",
      "393        1    1   38      0\n",
      "532        1    1   62      0\n",
      "717        2    1   26      1\n",
      "...      ...  ...  ...    ...\n",
      "407        1    0   44      1\n",
      "243        0    1   68      0\n",
      "321        0    1   86      0\n",
      "1104       2    1   24      4\n",
      "931        2    1   45      0\n",
      "\n",
      "[1047 rows x 4 columns]\n",
      "907     0\n",
      "761     0\n",
      "393     0\n",
      "532     0\n",
      "717     0\n",
      "       ..\n",
      "407     1\n",
      "243     0\n",
      "321     0\n",
      "1104    0\n",
      "931     0\n",
      "Name: survived, Length: 1047, dtype: int64\n"
     ]
    }
   ],
   "source": [
    "#Step 1\n",
    "df = pd.read_csv('Titanic.csv')\n",
    "surv = df['survived']\n",
    "df = df.drop(columns=['Unnamed: 0','Unnamed: 15','Unnamed: 16','Unnamed: 17','Unnamed: 18','name','parch','ticket','fare','cabin','embarked','boat','body','home.dest','survived'])\n",
    "\n",
    "le = preprocessing.LabelEncoder()\n",
    "df = df.apply(le.fit_transform)\n",
    "enc = preprocessing.OneHotEncoder()\n",
    "enc.fit(df)\n",
    "\n",
    "xTrain, xTest, yTrain, yTest = train_test_split(df, surv, test_size=0.20, random_state=41)\n",
    "\n",
    "print(xTrain)\n",
    "print(yTrain)"
   ]
  },
  {
   "cell_type": "code",
   "execution_count": 51,
   "id": "2069f9a3",
   "metadata": {},
   "outputs": [
    {
     "name": "stdout",
     "output_type": "stream",
     "text": [
      "              precision    recall  f1-score   support\n",
      "\n",
      "           0       0.85      0.93      0.89       177\n",
      "           1       0.81      0.66      0.73        85\n",
      "\n",
      "    accuracy                           0.84       262\n",
      "   macro avg       0.83      0.79      0.81       262\n",
      "weighted avg       0.84      0.84      0.83       262\n",
      "\n",
      "4\n"
     ]
    }
   ],
   "source": [
    "#Network 1\n",
    "net1 = MLPClassifier(hidden_layer_sizes=(100,2),max_iter=1000,learning_rate_init=.1,learning_rate='adaptive',activation='logistic',solver='sgd', alpha=1e-5, random_state=1)\n",
    "net1.fit(xTrain,yTrain)\n",
    "\n",
    "result1 = net1.predict(xTest)\n",
    "print(classification_report(yTest, result1))"
   ]
  },
  {
   "cell_type": "code",
   "execution_count": 55,
   "id": "7cd50963",
   "metadata": {},
   "outputs": [
    {
     "name": "stdout",
     "output_type": "stream",
     "text": [
      "              precision    recall  f1-score   support\n",
      "\n",
      "           0       0.86      0.88      0.87       177\n",
      "           1       0.74      0.69      0.72        85\n",
      "\n",
      "    accuracy                           0.82       262\n",
      "   macro avg       0.80      0.79      0.79       262\n",
      "weighted avg       0.82      0.82      0.82       262\n",
      "\n"
     ]
    }
   ],
   "source": [
    "#Network 2\n",
    "net2 = MLPClassifier(hidden_layer_sizes=(200,2),max_iter=1000,learning_rate_init=.1,learning_rate='adaptive',activation='logistic',solver='sgd', alpha=1e-5, random_state=1)\n",
    "net2.fit(xTrain,yTrain)\n",
    "\n",
    "result2 = net2.predict(xTest)\n",
    "print(classification_report(yTest, result2))"
   ]
  },
  {
   "cell_type": "code",
   "execution_count": 35,
   "id": "07939a21",
   "metadata": {},
   "outputs": [
    {
     "name": "stdout",
     "output_type": "stream",
     "text": [
      "              precision    recall  f1-score   support\n",
      "\n",
      "           0       0.87      0.88      0.87       177\n",
      "           1       0.74      0.72      0.73        85\n",
      "\n",
      "    accuracy                           0.83       262\n",
      "   macro avg       0.81      0.80      0.80       262\n",
      "weighted avg       0.83      0.83      0.83       262\n",
      "\n"
     ]
    }
   ],
   "source": [
    "##### RFC\n",
    "rfc = RandomForestClassifier(n_estimators=50,max_depth=7,max_leaf_nodes=7)\n",
    "rfc.fit(xTrain,yTrain)\n",
    "\n",
    "result3 = rfc.predict(xTest)\n",
    "print(classification_report(yTest, result3))"
   ]
  },
  {
   "cell_type": "code",
   "execution_count": 56,
   "id": "a4023b92",
   "metadata": {},
   "outputs": [
    {
     "name": "stdout",
     "output_type": "stream",
     "text": [
      "Network 1\n",
      "% Survivors accuracy 0.8864864864864864\n",
      "% Fatalities accuracy 0.7272727272727274\n",
      "\n",
      "Network 2\n",
      "% Survivors accuracy 0.8690807799442896\n",
      "% Fatalities accuracy 0.7151515151515152\n",
      "\n",
      "RFC\n",
      "% Survivors accuracy 0.8739495798319329\n",
      "% Fatalities accuracy 0.7305389221556886\n",
      "\n"
     ]
    }
   ],
   "source": [
    "report1 = classification_report(yTest, result1,output_dict=True)\n",
    "report2 = classification_report(yTest, result2,output_dict=True)\n",
    "report3 = classification_report(yTest, result3,output_dict=True)\n",
    "\n",
    "print('Network 1\\n% Survivors accuracy ' + str(report1['0']['f1-score']))\n",
    "print('% Fatalities accuracy ' + str(report1['1']['f1-score']) + '\\n')\n",
    "\n",
    "print('Network 2\\n% Survivors accuracy ' + str(report2['0']['f1-score']))\n",
    "print('% Fatalities accuracy ' + str(report2['1']['f1-score']) + '\\n')\n",
    "\n",
    "print('RFC\\n% Survivors accuracy ' + str(report3['0']['f1-score']))\n",
    "print('% Fatalities accuracy ' + str(report3['1']['f1-score']) + '\\n')"
   ]
  },
  {
   "cell_type": "markdown",
   "id": "753e3ee5",
   "metadata": {},
   "source": [
    "Network 1 and 2 perform similarly, but Network 1 outperforms the other slightly, possibly because the extra hidden layer overcomplicates the model. The RFC performs similarly to Network 1."
   ]
  }
 ],
 "metadata": {
  "kernelspec": {
   "display_name": "Python 3 (ipykernel)",
   "language": "python",
   "name": "python3"
  },
  "language_info": {
   "codemirror_mode": {
    "name": "ipython",
    "version": 3
   },
   "file_extension": ".py",
   "mimetype": "text/x-python",
   "name": "python",
   "nbconvert_exporter": "python",
   "pygments_lexer": "ipython3",
   "version": "3.9.7"
  }
 },
 "nbformat": 4,
 "nbformat_minor": 5
}
