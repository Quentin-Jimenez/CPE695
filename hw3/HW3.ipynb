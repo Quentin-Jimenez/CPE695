{
 "cells": [
  {
   "cell_type": "code",
   "execution_count": 28,
   "id": "5a1fc498",
   "metadata": {},
   "outputs": [],
   "source": [
    "import pandas as pd\n",
    "import numpy as np\n",
    "import matplotlib.pyplot as plt\n",
    "import random\n",
    "from sklearn.model_selection import train_test_split"
   ]
  },
  {
   "cell_type": "code",
   "execution_count": 70,
   "id": "a05cc53c",
   "metadata": {},
   "outputs": [
    {
     "name": "stdout",
     "output_type": "stream",
     "text": [
      "0.2502387774594078\n",
      "     pclass     sex   age  sibsp\n",
      "907     3rd  female  20.0      1\n",
      "761     3rd    male  16.0      0\n",
      "393     2nd    male  25.0      0\n",
      "532     2nd    male  41.0      0\n",
      "717     3rd    male  18.0      1\n",
      "...     ...     ...   ...    ...\n",
      "407     2nd  female  29.0      1\n",
      "243     1st    male  46.0      0\n",
      "321     1st    male  62.0      0\n",
      "1104    3rd    male  16.0      4\n",
      "931     3rd    male   NaN      0\n",
      "\n",
      "[1047 rows x 4 columns]\n",
      "907     0\n",
      "761     0\n",
      "393     0\n",
      "532     0\n",
      "717     0\n",
      "       ..\n",
      "407     1\n",
      "243     0\n",
      "321     0\n",
      "1104    0\n",
      "931     0\n",
      "Name: survived, Length: 1047, dtype: int64\n"
     ]
    }
   ],
   "source": [
    "df = pd.read_csv('Titanic.csv')\n",
    "surv = df['survived']\n",
    "df = df.drop(columns=['Unnamed: 0','name','parch','ticket','fare','cabin','embarked','boat','body','home.dest','survived'])\n",
    "\n",
    "xTrain, xTest, yTrain, yTest = train_test_split(df, surv, test_size=0.20, random_state=41)\n",
    "print(len(xTest.index)/len(xTrain.index))\n",
    "\n",
    "print(xTrain)\n",
    "print(yTrain)"
   ]
  },
  {
   "cell_type": "code",
   "execution_count": null,
   "id": "421f0d07",
   "metadata": {},
   "outputs": [],
   "source": []
  },
  {
   "cell_type": "code",
   "execution_count": null,
   "id": "5b415d34",
   "metadata": {},
   "outputs": [],
   "source": []
  },
  {
   "cell_type": "code",
   "execution_count": null,
   "id": "aca2d03c",
   "metadata": {},
   "outputs": [],
   "source": []
  }
 ],
 "metadata": {
  "kernelspec": {
   "display_name": "Python 3 (ipykernel)",
   "language": "python",
   "name": "python3"
  },
  "language_info": {
   "codemirror_mode": {
    "name": "ipython",
    "version": 3
   },
   "file_extension": ".py",
   "mimetype": "text/x-python",
   "name": "python",
   "nbconvert_exporter": "python",
   "pygments_lexer": "ipython3",
   "version": "3.9.7"
  }
 },
 "nbformat": 4,
 "nbformat_minor": 5
}
