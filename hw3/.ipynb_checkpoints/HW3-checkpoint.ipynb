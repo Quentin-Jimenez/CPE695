{
 "cells": [
  {
   "cell_type": "code",
   "execution_count": 28,
   "id": "edad25bd",
   "metadata": {},
   "outputs": [],
   "source": [
    "import pandas as pd\n",
    "import numpy as np\n",
    "import matplotlib.pyplot as plt\n",
    "import random\n",
    "from sklearn.model_selection import train_test_split"
   ]
  },
  {
   "cell_type": "code",
   "execution_count": 62,
   "id": "c974fe33",
   "metadata": {},
   "outputs": [
    {
     "name": "stdout",
     "output_type": "stream",
     "text": [
      "0.2502387774594078\n",
      "      Unnamed: 0 pclass                             name     sex      age  \\\n",
      "1              2    1st   Allison, Master. Hudson Trevor    male   0.9167   \n",
      "2              3    1st     Allison, Miss. Helen Loraine  female   2.0000   \n",
      "3              4    1st  Allison, Mr. Hudson Joshua Crei    male  30.0000   \n",
      "4              5    1st  Allison, Mrs. Hudson J C (Bessi  female  25.0000   \n",
      "5              6    1st              Anderson, Mr. Harry    male  48.0000   \n",
      "...          ...    ...                              ...     ...      ...   \n",
      "1304        1305    3rd             Zabour, Miss. Hileni  female  14.5000   \n",
      "1305        1306    3rd            Zabour, Miss. Thamine  female      NaN   \n",
      "1306        1307    3rd        Zakarian, Mr. Mapriededer    male  26.5000   \n",
      "1307        1308    3rd              Zakarian, Mr. Ortin    male  27.0000   \n",
      "1308        1309    3rd               Zimmerman, Mr. Leo    male  29.0000   \n",
      "\n",
      "      sibsp  \n",
      "1         1  \n",
      "2         1  \n",
      "3         1  \n",
      "4         1  \n",
      "5         0  \n",
      "...     ...  \n",
      "1304      1  \n",
      "1305      1  \n",
      "1306      0  \n",
      "1307      0  \n",
      "1308      0  \n",
      "\n",
      "[1047 rows x 6 columns]\n"
     ]
    }
   ],
   "source": [
    "df = pd.read_csv('Titanic.csv')\n",
    "surv = df['survived']\n",
    "df = df.drop(columns=['parch','ticket','fare','cabin','embarked','boat','body','home.dest','survived'])\n",
    "\n",
    "xTrain, xTest, yTrain, yTest = train_test_split(df, surv, test_size=0.2, random_state=41)\n",
    "print(len(xTest.index)/len(xTrain.index))\n",
    "\n",
    "xTrain = xTrain.sort_index()\n",
    "xTest = xTest.sort_index()\n",
    "yTrain = yTrain.sort_index()\n",
    "yTest = yTest.sort_index()\n",
    "print(xTrain)\n",
    "print(yTrain)"
   ]
  },
  {
   "cell_type": "code",
   "execution_count": null,
   "id": "eeb9568d",
   "metadata": {},
   "outputs": [],
   "source": []
  },
  {
   "cell_type": "code",
   "execution_count": null,
   "id": "71bc5e9a",
   "metadata": {},
   "outputs": [],
   "source": []
  },
  {
   "cell_type": "code",
   "execution_count": null,
   "id": "96c5eea5",
   "metadata": {},
   "outputs": [],
   "source": []
  }
 ],
 "metadata": {
  "kernelspec": {
   "display_name": "Python 3 (ipykernel)",
   "language": "python",
   "name": "python3"
  },
  "language_info": {
   "codemirror_mode": {
    "name": "ipython",
    "version": 3
   },
   "file_extension": ".py",
   "mimetype": "text/x-python",
   "name": "python",
   "nbconvert_exporter": "python",
   "pygments_lexer": "ipython3",
   "version": "3.9.7"
  }
 },
 "nbformat": 4,
 "nbformat_minor": 5
}
